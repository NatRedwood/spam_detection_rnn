{
 "cells": [
  {
   "cell_type": "markdown",
   "metadata": {},
   "source": [
    "# Impact of RNN Architecture - Code Part I"
   ]
  },
  {
   "cell_type": "code",
   "execution_count": 2,
   "metadata": {},
   "outputs": [],
   "source": [
    "import numpy as np\n",
    "import statistics as st\n",
    "import math\n",
    "import tensorflow as tf\n",
    "from keras.layers import GRU, SimpleRNN, Embedding, Dense, LSTM, Dropout\n",
    "from keras.models import Sequential\n",
    "from keras.metrics import Precision, Recall\n",
    "import pandas as pd\n",
    "from keras.preprocessing.text import Tokenizer\n",
    "from keras.preprocessing.sequence import pad_sequences\n",
    "from keras.callbacks import ModelCheckpoint\n",
    "import nltk"
   ]
  },
  {
   "cell_type": "markdown",
   "metadata": {},
   "source": [
    "### Data pre-processing"
   ]
  },
  {
   "cell_type": "code",
   "execution_count": 3,
   "metadata": {},
   "outputs": [],
   "source": [
    "# Loading the dataset\n",
    "\n",
    "full_dataset = pd.read_csv(\"C:/Users/natal/CSCI5922_NN/Lab3/spam_detection_rnn/data/SPAM text message 20170820 - Data.csv\")"
   ]
  },
  {
   "cell_type": "code",
   "execution_count": 4,
   "metadata": {},
   "outputs": [],
   "source": [
    "full_text = []\n",
    "labels = []\n",
    "\n",
    "for x, label in enumerate(full_dataset['Category']):\n",
    "    full_text.append(full_dataset['Message'][x])\n",
    "    if label == 'ham':\n",
    "        labels.append(0)\n",
    "    else:\n",
    "        labels.append(1)\n",
    "\n",
    "full_text = np.asarray(full_text)\n",
    "labels = np.asarray(labels)"
   ]
  },
  {
   "cell_type": "code",
   "execution_count": 5,
   "metadata": {},
   "outputs": [
    {
     "name": "stdout",
     "output_type": "stream",
     "text": [
      "Size of separate messages:  5572\n",
      "Size of labels:  5572\n"
     ]
    }
   ],
   "source": [
    "print(\"Size of separate messages: \", len(full_text))\n",
    "print(\"Size of labels: \", len(labels))"
   ]
  },
  {
   "cell_type": "markdown",
   "metadata": {},
   "source": [
    "### Dataset split - for basic full test split (all sequence lengths)"
   ]
  },
  {
   "cell_type": "code",
   "execution_count": 6,
   "metadata": {},
   "outputs": [
    {
     "name": "stdout",
     "output_type": "stream",
     "text": [
      "True\n",
      "Train size:  3900 \n",
      "Test size:  1672\n",
      "Tokens size:  9004\n",
      "Data size after tokenizing:  (5572, 500)\n",
      "Train x shape after split:  (3900, 500) \n",
      "Train y shape after split:  (3900,)\n",
      "Test x shape after split:  (1672, 500) \n",
      "Test y shape after split:  (1672,)\n"
     ]
    }
   ],
   "source": [
    "# features - number of words\n",
    "max_features = 10000\n",
    "\n",
    "# Splitting the data\n",
    "train = int(5572 * .7)\n",
    "#print(train)\n",
    "test = int(5572 - train)\n",
    "#print(test)\n",
    "\n",
    "# Checking the shapes are correct\n",
    "print(len(full_text) == (train + test))\n",
    "print(\"Train size: \", train, \"\\nTest size: \", test)\n",
    "\n",
    "# Tokenizning \n",
    "tokenizer = Tokenizer()\n",
    "tokenizer.fit_on_texts(full_text)\n",
    "sequences = tokenizer.texts_to_sequences(full_text)\n",
    "\n",
    "# after, stop putting more words\n",
    "max_len = 500\n",
    "\n",
    "idx_word = tokenizer.word_index\n",
    "print(\"Tokens size: \", len(idx_word))\n",
    "\n",
    "padded_sequences = pad_sequences(sequences, maxlen=max_len)\n",
    "\n",
    "# Checking the shape\n",
    "print(\"Data size after tokenizing: \", padded_sequences.shape)\n",
    "\n",
    "np.random.seed(42)\n",
    "indices = np.arange(padded_sequences.shape[0])\n",
    "np.random.shuffle(indices)\n",
    "padded_sequences_idx = padded_sequences[indices]\n",
    "labels = labels[indices]\n",
    "\n",
    "x_train = padded_sequences_idx[:train]\n",
    "y_train = labels[:train]\n",
    "x_test = padded_sequences_idx[train:]\n",
    "y_test = labels[train:]\n",
    "\n",
    "# Checking the shapes after splitting\n",
    "print(\"Train x shape after split: \", x_train.shape, \"\\nTrain y shape after split: \", y_train.shape)\n",
    "print(\"Test x shape after split: \", x_test.shape, \"\\nTest y shape after split: \", y_test.shape)"
   ]
  },
  {
   "cell_type": "markdown",
   "metadata": {},
   "source": [
    "### Analysis of the messages' length - necessary for further splitting the test set "
   ]
  },
  {
   "cell_type": "code",
   "execution_count": 7,
   "metadata": {},
   "outputs": [
    {
     "name": "stdout",
     "output_type": "stream",
     "text": [
      "\n",
      "------------------------------------------------------\n",
      "\n",
      "Sentence example from the messages:\n",
      "\n",
      " FreeMsg Hey there darling it's been 3 week's now and no word back! I'd like some fun you up for it still? Tb ok! XxX std chgs to send, £1.50 to rcv\n",
      "\n",
      "------------------------------------------------------\n",
      "\n",
      "Checking the number of messages: 5572\n",
      "\n",
      "------------------------------------------------------\n",
      "\n",
      "Sentence example after tokenizing: \n",
      "\n",
      " ['FreeMsg', 'Hey', 'there', 'darling', \"it's\", 'been', '3', \"week's\", 'now', 'and', 'no', 'word', 'back!', \"I'd\", 'like', 'some', 'fun', 'you', 'up', 'for', 'it', 'still?', 'Tb', 'ok!', 'XxX', 'std', 'chgs', 'to', 'send,', '£1.50', 'to', 'rcv']\n",
      "\n",
      "------------------------------------------------------\n",
      "\n",
      "Length of the first 20 messages: \n",
      "\n",
      "[20, 6, 28, 11, 13, 32, 16, 26, 26, 29, 21, 26, 26, 37, 8, 19, 4, 19, 13, 24]\n",
      "\n",
      "------------------------------------------------------\n",
      "\n",
      "Sorted list; descending:\n",
      "\n",
      "[171, 162, 125, 125, 121, 119, 99, 96, 96, 95, 89, 88, 80, 79, 79, 79, 77, 77, 76, 73]\n",
      "\n",
      "------------------------------------------------------\n",
      "\n",
      "The mean of the first set in the desceding list (large): 28.324178782983306\n",
      "\n",
      "------------------------------------------------------\n",
      "\n",
      "The mean of the first set in the desceding list (medium): 12.775982767905223\n",
      "Lengths of 20 messages before the frist division: [19, 19, 19, 19, 19, 19, 19, 19, 19, 19, 19, 19, 19, 19, 19, 19, 19, 19, 19, 19]\n",
      "\n",
      "------------------------------------------------------\n",
      "\n",
      "The mean of the first set in the desceding list (short): 5.889128094725511\n",
      "Lengths of 20 messages before the second division: [9, 9, 9, 9, 9, 9, 9, 9, 9, 9, 9, 9, 9, 9, 9, 9, 9, 9, 9, 9]\n",
      "\n",
      "------------------------------------------------------\n",
      "\n",
      "Chosen boundaries for lengths:\n",
      "\n",
      "Short: 9\n",
      "Medium: 18\n",
      "Long: 170\n"
     ]
    }
   ],
   "source": [
    "# Checking the length of messages to perform the division of the test set based on the number of words\n",
    "# Creating the boundaries for: Short, medium and long inputs\n",
    "\n",
    "texts_list = full_text.tolist()\n",
    "print(\"\\n------------------------------------------------------\\n\")\n",
    "print(f\"Sentence example from the messages:\\n\\n {texts_list[5]}\")\n",
    "print(\"\\n------------------------------------------------------\\n\")\n",
    "\n",
    "def tokenizing():\n",
    "    splitted = []\n",
    "    for x in texts_list:\n",
    "        splitted.append(x.split(' '))\n",
    "    return splitted\n",
    "\n",
    "splitted_messages = tokenizing()\n",
    "print(f\"Checking the number of messages: {len(splitted_messages)}\")\n",
    "print(\"\\n------------------------------------------------------\\n\")\n",
    "print(f\"Sentence example after tokenizing: \\n\\n {splitted_messages[5]}\")\n",
    "print(\"\\n------------------------------------------------------\\n\")\n",
    "\n",
    "def counting_length():\n",
    "    lengths = []\n",
    "    for x in splitted_messages:\n",
    "        lengths.append(len(x))\n",
    "    return lengths\n",
    "\n",
    "print(f\"Length of the first 20 messages: \\n\\n{counting_length()[:20]}\")\n",
    "print(\"\\n------------------------------------------------------\\n\")\n",
    "\n",
    "sorted_counts = sorted(counting_length(), reverse=True)\n",
    "print(f\"Sorted list; descending:\\n\\n{sorted_counts[:20]}\")\n",
    "\n",
    "div = math.floor(len(texts_list)/3)\n",
    "long_lenghts = sorted_counts[:div]\n",
    "print(\"\\n------------------------------------------------------\\n\")\n",
    "print(f\"The mean of the first set in the desceding list (large): {st.mean(long_lenghts)}\")\n",
    "\n",
    "medium_lenghts = sorted_counts[div:int(2*div)]\n",
    "print(\"\\n------------------------------------------------------\\n\")\n",
    "print(f\"The mean of the first set in the desceding list (medium): {st.mean(medium_lenghts)}\")\n",
    "print(f\"Lengths of 20 messages before the frist division: {sorted_counts[div-20:int(2*div)][:20]}\")\n",
    "\n",
    "short_lenghts = sorted_counts[2*div:]\n",
    "print(\"\\n------------------------------------------------------\\n\")\n",
    "print(f\"The mean of the first set in the desceding list (short): {st.mean(short_lenghts)}\")\n",
    "print(f\"Lengths of 20 messages before the second division: {sorted_counts[(2*div-20):][:20]}\")\n",
    "print(\"\\n------------------------------------------------------\\n\")\n",
    "\n",
    "short=9\n",
    "medium=18\n",
    "long=170\n",
    "print(f\"Chosen boundaries for lengths:\\n\\nShort: {short}\\nMedium: {medium}\\nLong: {long}\")"
   ]
  },
  {
   "cell_type": "markdown",
   "metadata": {},
   "source": [
    "### Test data preparation for test-size experiments based on the sequence length"
   ]
  },
  {
   "cell_type": "code",
   "execution_count": 8,
   "metadata": {},
   "outputs": [
    {
     "name": "stdout",
     "output_type": "stream",
     "text": [
      "\n",
      "------------------------------------------------------\n",
      "\n",
      "Length of short messages dataset: 1861\n",
      "\n",
      "Example of a message: 0    I didnt get anything da\n",
      "Name: messages, dtype: object\n",
      "\n",
      "------------------------------------------------------\n",
      "\n",
      "Length of medium messages dataset: 1843\n",
      "\n",
      "Example of a message: 0    I call you later, don't have network. If urgnt, sms me.\n",
      "Name: messages, dtype: object\n",
      "\n",
      "------------------------------------------------------\n",
      "\n",
      "Length of long messages dataset: 1868\n",
      "\n",
      "Example of a long message: 0    I don't want you to leave. But i'm barely doing what i can to stay sane. fighting with you constantly isn't helping.\n",
      "Name: messages, dtype: object\n"
     ]
    }
   ],
   "source": [
    "# Creating a dataframe with messages and word counts\n",
    "\n",
    "#Checking the lengths of texts and labels\n",
    "len(texts_list)\n",
    "len(labels)\n",
    "\n",
    "#Making sure the numpy arrays are converted to lists\n",
    "type(texts_list)\n",
    "type(labels)\n",
    "\n",
    "labels_list = labels.tolist()\n",
    "\n",
    "type(labels_list)\n",
    "\n",
    "#Creating a dictionary and then making a dataframe \n",
    "dict_full_dataset = {'messages': texts_list, 'labels': labels_list}\n",
    "df_full_dataset = pd.DataFrame(dict_full_dataset)\n",
    "df_full_dataset.head()\n",
    "\n",
    "#Creating an additional column with word counts\n",
    "df_full_dataset['word_count'] = df_full_dataset['messages'].str.split().str.len()\n",
    "df_full_dataset\n",
    "\n",
    "#Setting df options to display example messages\n",
    "pd.set_option('display.max_colwidth', None)\n",
    "\n",
    "#Creating three new dataframes based on the conditions of the length of seqeunces\n",
    "#Boundaries for nummber of words were created in the previous cells with the analysis of the dataset\n",
    "df_short_messages = df_full_dataset[df_full_dataset['word_count']<short]\n",
    "print(\"\\n------------------------------------------------------\\n\")\n",
    "print(f\"Length of short messages dataset: {len(df_short_messages)}\\n\")\n",
    "print(f\"Example of a message: {df_short_messages['messages'].sample(1,ignore_index=True)}\")\n",
    "\n",
    "df_medium_messages = df_full_dataset[(df_full_dataset['word_count']<=medium) & (df_full_dataset['word_count']>=short)]\n",
    "print(\"\\n------------------------------------------------------\\n\")\n",
    "print(f\"Length of medium messages dataset: {len(df_medium_messages)}\\n\")\n",
    "print(f\"Example of a message: {df_medium_messages['messages'].sample(1,ignore_index=True)}\")\n",
    "\n",
    "df_long_messages = df_full_dataset[df_full_dataset['word_count']>medium]\n",
    "print(\"\\n------------------------------------------------------\\n\")\n",
    "print(f\"Length of long messages dataset: {len(df_long_messages)}\\n\")\n",
    "print(f\"Example of a long message: {df_long_messages['messages'].sample(1,ignore_index=True)}\")\n",
    "\n",
    "#Reset df options\n",
    "pd.reset_option('display.max_colwidth')"
   ]
  },
  {
   "cell_type": "markdown",
   "metadata": {},
   "source": [
    "### Splitting the dataset accroding to sequence size for experiments"
   ]
  },
  {
   "cell_type": "code",
   "execution_count": 9,
   "metadata": {},
   "outputs": [
    {
     "name": "stdout",
     "output_type": "stream",
     "text": [
      "Checking the length of messages == length of labels: True\n",
      "Checking the length of messages == length of labels: True\n",
      "Checking the length of messages == length of labels: True\n"
     ]
    }
   ],
   "source": [
    "#Extracting lists from df of short messages and checking length are compatible\n",
    "short_list=df_short_messages['messages'].to_list()\n",
    "short_list_labels=df_short_messages['labels'].to_list()\n",
    "print(f\"Checking the length of messages == length of labels: {len(short_list)==len(short_list_labels)}\")\n",
    "\n",
    "#Extracting lists from df of medium messages and checking length are compatible\n",
    "m_list=df_medium_messages['messages'].to_list()\n",
    "m_list_labels=df_medium_messages['labels'].to_list()\n",
    "print(f\"Checking the length of messages == length of labels: {len(m_list)==len(m_list_labels)}\")\n",
    "\n",
    "#Extracting lists from df of long messages and checking length are compatible\n",
    "l_list=df_long_messages['messages'].to_list()\n",
    "l_list_labels=df_long_messages['labels'].to_list()\n",
    "print(f\"Checking the length of messages == length of labels: {len(l_list)==len(l_list_labels)}\")"
   ]
  },
  {
   "cell_type": "code",
   "execution_count": 10,
   "metadata": {},
   "outputs": [
    {
     "name": "stdout",
     "output_type": "stream",
     "text": [
      "<class 'numpy.ndarray'>\n"
     ]
    }
   ],
   "source": [
    "#Creating numpy arrays\n",
    "full_text_short = np.asarray(short_list)\n",
    "labels_short = np.asarray(short_list_labels)\n",
    "\n",
    "full_text_medium = np.asarray(m_list)\n",
    "labels_medium = np.asarray(m_list_labels)\n",
    "\n",
    "full_text_long = np.asarray(l_list)\n",
    "labels_long = np.asarray(l_list_labels)\n",
    "print(type(labels_long))"
   ]
  },
  {
   "cell_type": "code",
   "execution_count": 11,
   "metadata": {},
   "outputs": [],
   "source": [
    "#Since the full test data has ~1600 entries, I will not further split the created sets into train/test\n",
    "#The current sets are ~1800 so it's comparable to the original full test set\n",
    "\n",
    "#Steps as above to vectorize the sequences of words\n",
    "\n",
    "def vectorize_data(x,y):\n",
    "    # Tokenizning\n",
    "    tokenizer = Tokenizer()\n",
    "    fitted = tokenizer.fit_on_texts(x)\n",
    "    sequences = tokenizer.texts_to_sequences(x)\n",
    "\n",
    "    # after, stop putting more words\n",
    "    max_len = 500\n",
    "\n",
    "    idx_word = tokenizer.word_index\n",
    "    print(\"Tokens size: \", len(idx_word))\n",
    "\n",
    "    padded = pad_sequences(sequences, maxlen=max_len)\n",
    "\n",
    "    # Checking the shape\n",
    "    print(\"Data size after tokenizing: \", padded.shape)\n",
    "\n",
    "    np.random.seed(42)\n",
    "    indices = np.arange(padded.shape[0])\n",
    "    np.random.shuffle(indices)\n",
    "    padded_sequences_idx = padded[indices]\n",
    "    labels = y[indices]\n",
    "\n",
    "    x_data = padded_sequences_idx[:]\n",
    "    y_data = labels[:]\n",
    "\n",
    "    return x_data, y_data"
   ]
  },
  {
   "cell_type": "code",
   "execution_count": 12,
   "metadata": {},
   "outputs": [
    {
     "name": "stdout",
     "output_type": "stream",
     "text": [
      "Tokens size:  2357\n",
      "Data size after tokenizing:  (1861, 500)\n",
      "Tokens size:  3846\n",
      "Data size after tokenizing:  (1843, 500)\n",
      "Tokens size:  6659\n",
      "Data size after tokenizing:  (1868, 500)\n"
     ]
    }
   ],
   "source": [
    "x_test_short, y_test_short = vectorize_data(full_text_short, labels_short)\n",
    "x_test_medium, y_test_medium = vectorize_data(full_text_medium, labels_medium)\n",
    "x_test_long, y_test_long = vectorize_data(full_text_long, labels_long)"
   ]
  },
  {
   "cell_type": "markdown",
   "metadata": {},
   "source": [
    "## Models"
   ]
  },
  {
   "cell_type": "markdown",
   "metadata": {},
   "source": [
    "### Test Model"
   ]
  },
  {
   "cell_type": "code",
   "execution_count": 25,
   "metadata": {},
   "outputs": [
    {
     "name": "stdout",
     "output_type": "stream",
     "text": [
      "Epoch 1/15\n",
      "122/122 [==============================] - 14s 101ms/step - loss: 0.2278 - acc: 0.9208\n",
      "Epoch 2/15\n",
      "122/122 [==============================] - 13s 106ms/step - loss: 0.0577 - acc: 0.9831\n",
      "Epoch 3/15\n",
      "122/122 [==============================] - 13s 104ms/step - loss: 0.0397 - acc: 0.9892\n",
      "Epoch 4/15\n",
      "122/122 [==============================] - 13s 105ms/step - loss: 0.0271 - acc: 0.9923\n",
      "Epoch 5/15\n",
      "122/122 [==============================] - 13s 105ms/step - loss: 0.0136 - acc: 0.9956\n",
      "Epoch 6/15\n",
      "122/122 [==============================] - 13s 107ms/step - loss: 0.0097 - acc: 0.9969\n",
      "Epoch 7/15\n",
      "122/122 [==============================] - 13s 109ms/step - loss: 0.0065 - acc: 0.9987\n",
      "Epoch 8/15\n",
      "122/122 [==============================] - 13s 108ms/step - loss: 0.0033 - acc: 0.9992\n",
      "Epoch 9/15\n",
      "122/122 [==============================] - 13s 106ms/step - loss: 0.0019 - acc: 0.9995\n",
      "Epoch 10/15\n",
      "122/122 [==============================] - 13s 104ms/step - loss: 0.0017 - acc: 0.9995\n",
      "Epoch 11/15\n",
      "122/122 [==============================] - 13s 104ms/step - loss: 8.1505e-04 - acc: 0.9995\n",
      "Epoch 12/15\n",
      "122/122 [==============================] - 13s 105ms/step - loss: 3.0906e-04 - acc: 1.0000\n",
      "Epoch 13/15\n",
      "122/122 [==============================] - 13s 105ms/step - loss: 3.7666e-04 - acc: 1.0000\n",
      "Epoch 14/15\n",
      "122/122 [==============================] - 13s 106ms/step - loss: 2.5793e-04 - acc: 1.0000\n",
      "Epoch 15/15\n",
      "122/122 [==============================] - 13s 108ms/step - loss: 1.7114e-04 - acc: 1.0000\n"
     ]
    }
   ],
   "source": [
    "# Vanilla test RNN model\n",
    "\n",
    "model = Sequential()\n",
    "model.add(Embedding(max_features, 64))\n",
    "model.add(SimpleRNN(64,input_shape=x_train.shape,return_sequences=False, activation='tanh'))\n",
    "model.add(Dense(1, activation='sigmoid'))\n",
    "model.compile(loss = 'binary_crossentropy', optimizer ='rmsprop',metrics=['acc'])\n",
    "\n",
    "model_rnn = model.fit(x_train, y_train, epochs = 15, batch_size=32)"
   ]
  },
  {
   "cell_type": "markdown",
   "metadata": {},
   "source": [
    "### Analysis of first model_rnn\n",
    "\n",
    "After running the very first model, it was observed that the model is probably overfitting the data. The accuracy after the epoch 15 is 100% and the model probably learns the noise. The model is not learning objectively and is fit too much to the training data. Before I actually start runnig the 3 models (vanilla RNN, LSTM and GRU), I will treat the model overfitting:\n",
    "* reducing the network's capacity --> decreasing the number of units in the model's layers\n",
    "* applying regularization technique --> penalizing very large weights\n",
    "* changing optimizer to Adam\n",
    "* increasing the batch size --> the model will learn lesser noise; it will help take a more reasonable 'step' for minima\n",
    "* adding dropout layers --> by dropping some layer of the network, I will let the model generalize better on unseen examples; it won't be trained for details and noises of the training data\n",
    "\n",
    "I will call this model a test model, apply the mentioned changes and start building the 3 RNN models for the experiments."
   ]
  },
  {
   "cell_type": "markdown",
   "metadata": {},
   "source": [
    "## Experiments\n",
    "\n",
    "### Fine-grained analysis with respect to input length\n",
    "\n",
    "Each model (vanilla RNN, LSTM and GRU) is ran on the full test set (all sequence lengths) and on experimental test sets by dividing the test set into short, medium and long inputs roughly equl-sized based on the number of words observed in the test set examples."
   ]
  },
  {
   "cell_type": "code",
   "execution_count": 16,
   "metadata": {},
   "outputs": [
    {
     "name": "stdout",
     "output_type": "stream",
     "text": [
      "Lengths of test sets:\n",
      "1672\n",
      "1861\n",
      "1843\n",
      "1868\n"
     ]
    }
   ],
   "source": [
    "# Checking numbers of test sets\n",
    "\n",
    "print(\"Lengths of test sets:\")\n",
    "test_sets=[y_test,y_test_short,y_test_medium,y_test_long]\n",
    "for x in test_sets:\n",
    "    print(len(x))"
   ]
  },
  {
   "cell_type": "markdown",
   "metadata": {},
   "source": [
    "### Vanilla RNN model"
   ]
  },
  {
   "cell_type": "code",
   "execution_count": 24,
   "metadata": {},
   "outputs": [
    {
     "name": "stdout",
     "output_type": "stream",
     "text": [
      "Epoch 1/12\n",
      "16/16 [==============================] - 4s 124ms/step - loss: 0.7857 - acc: 0.7590 - precision_2: 0.1785 - recall_2: 0.2222\n",
      "Epoch 2/12\n",
      "16/16 [==============================] - 2s 132ms/step - loss: 0.6469 - acc: 0.8662 - precision_2: 0.0000e+00 - recall_2: 0.0000e+00\n",
      "Epoch 3/12\n",
      "16/16 [==============================] - 2s 126ms/step - loss: 0.5574 - acc: 0.8662 - precision_2: 0.0000e+00 - recall_2: 0.0000e+00\n",
      "Epoch 4/12\n",
      "16/16 [==============================] - 2s 116ms/step - loss: 0.5153 - acc: 0.8662 - precision_2: 0.0000e+00 - recall_2: 0.0000e+00\n",
      "Epoch 5/12\n",
      "16/16 [==============================] - 2s 119ms/step - loss: 0.4899 - acc: 0.8662 - precision_2: 0.0000e+00 - recall_2: 0.0000e+00\n",
      "Epoch 6/12\n",
      "16/16 [==============================] - 2s 118ms/step - loss: 0.4469 - acc: 0.8764 - precision_2: 1.0000 - recall_2: 0.0766\n",
      "Epoch 7/12\n",
      "16/16 [==============================] - 2s 121ms/step - loss: 0.3666 - acc: 0.9595 - precision_2: 1.0000 - recall_2: 0.6973\n",
      "Epoch 8/12\n",
      "16/16 [==============================] - 2s 117ms/step - loss: 0.2763 - acc: 0.9821 - precision_2: 1.0000 - recall_2: 0.8659\n",
      "Epoch 9/12\n",
      "16/16 [==============================] - 2s 120ms/step - loss: 0.2280 - acc: 0.9872 - precision_2: 0.9979 - recall_2: 0.9061\n",
      "Epoch 10/12\n",
      "16/16 [==============================] - 2s 123ms/step - loss: 0.2036 - acc: 0.9928 - precision_2: 0.9940 - recall_2: 0.9521\n",
      "Epoch 11/12\n",
      "16/16 [==============================] - 2s 118ms/step - loss: 0.1859 - acc: 0.9941 - precision_2: 1.0000 - recall_2: 0.9559\n",
      "Epoch 12/12\n",
      "16/16 [==============================] - 2s 119ms/step - loss: 0.1740 - acc: 0.9964 - precision_2: 1.0000 - recall_2: 0.9732\n",
      "\n",
      "---------------------------------------------------\n",
      "\n",
      "Model evaluation on the full test set:\n",
      "53/53 [==============================] - 2s 24ms/step - loss: 0.2088 - acc: 0.9821 - precision_2: 0.9899 - recall_2: 0.8756\n",
      "\n",
      "---------------------------------------------------\n",
      "\n",
      "Model evaluation on the SHORT test set:\n",
      "59/59 [==============================] - 1s 21ms/step - loss: 0.5996 - acc: 0.8651 - precision_2: 0.0000e+00 - recall_2: 0.0000e+00\n",
      "\n",
      "---------------------------------------------------\n",
      "\n",
      "Model evaluation on the MEDIUM test set:\n",
      "58/58 [==============================] - 1s 19ms/step - loss: 0.6369 - acc: 0.8530 - precision_2: 0.0000e+00 - recall_2: 0.0000e+00\n",
      "\n",
      "---------------------------------------------------\n",
      "\n",
      "Model evaluation on the LONG test set:\n",
      "59/59 [==============================] - 1s 18ms/step - loss: 0.5604 - acc: 0.8635 - precision_2: 0.1750 - recall_2: 0.0306\n"
     ]
    },
    {
     "data": {
      "text/plain": [
       "{'loss': 0.5604433417320251,\n",
       " 'acc': 0.8634903430938721,\n",
       " 'precision_2': 0.17499999701976776,\n",
       " 'recall_2': 0.030567685142159462}"
      ]
     },
     "execution_count": 24,
     "metadata": {},
     "output_type": "execute_result"
    }
   ],
   "source": [
    "# Vanilla RNN model 1 \n",
    "\n",
    "model = Sequential()\n",
    "model.add(Embedding(max_features, 15))\n",
    "model.add(SimpleRNN(15,input_shape=x_train.shape, activation='tanh',recurrent_regularizer='l2'))\n",
    "model.add(Dense(1, activation='sigmoid'))\n",
    "model.compile(loss = 'binary_crossentropy', optimizer='adam',metrics=['acc', Precision(), Recall()])\n",
    "\n",
    "model_vanilla_rnn = model.fit(x_train, y_train, epochs = 12, batch_size=256)\n",
    "print(\"\\n---------------------------------------------------\\n\")\n",
    "print(\"Model evaluation on the full test set:\")\n",
    "model.evaluate(x_test,y_test, verbose=1, return_dict=True)\n",
    "print(\"\\n---------------------------------------------------\\n\")\n",
    "print(\"Model evaluation on the SHORT test set:\")\n",
    "model.evaluate(x_test_short,y_test_short, verbose=1, return_dict=True)\n",
    "print(\"\\n---------------------------------------------------\\n\")\n",
    "print(\"Model evaluation on the MEDIUM test set:\")\n",
    "model.evaluate(x_test_medium,y_test_medium, verbose=1, return_dict=True)\n",
    "print(\"\\n---------------------------------------------------\\n\")\n",
    "print(\"Model evaluation on the LONG test set:\")\n",
    "model.evaluate(x_test_long,y_test_long, verbose=1, return_dict=True)"
   ]
  },
  {
   "cell_type": "markdown",
   "metadata": {},
   "source": [
    "### LSTM model"
   ]
  },
  {
   "cell_type": "code",
   "execution_count": 25,
   "metadata": {},
   "outputs": [
    {
     "name": "stdout",
     "output_type": "stream",
     "text": [
      "Epoch 1/12\n",
      "16/16 [==============================] - 10s 322ms/step - loss: 0.8084 - acc: 0.8144 - precision_3: 0.1656 - recall_3: 0.0958\n",
      "Epoch 2/12\n",
      "16/16 [==============================] - 5s 329ms/step - loss: 0.7092 - acc: 0.8662 - precision_3: 0.0000e+00 - recall_3: 0.0000e+00\n",
      "Epoch 3/12\n",
      "16/16 [==============================] - 5s 337ms/step - loss: 0.5303 - acc: 0.8662 - precision_3: 0.0000e+00 - recall_3: 0.0000e+00\n",
      "Epoch 4/12\n",
      "16/16 [==============================] - 5s 300ms/step - loss: 0.4056 - acc: 0.8662 - precision_3: 0.0000e+00 - recall_3: 0.0000e+00\n",
      "Epoch 5/12\n",
      "16/16 [==============================] - 5s 332ms/step - loss: 0.3302 - acc: 0.8762 - precision_3: 1.0000 - recall_3: 0.0747\n",
      "Epoch 6/12\n",
      "16/16 [==============================] - 5s 328ms/step - loss: 0.2584 - acc: 0.9208 - precision_3: 1.0000 - recall_3: 0.4080\n",
      "Epoch 7/12\n",
      "16/16 [==============================] - 5s 309ms/step - loss: 0.2061 - acc: 0.9585 - precision_3: 1.0000 - recall_3: 0.6897\n",
      "Epoch 8/12\n",
      "16/16 [==============================] - 5s 301ms/step - loss: 0.1719 - acc: 0.9764 - precision_3: 1.0000 - recall_3: 0.8238\n",
      "Epoch 9/12\n",
      "16/16 [==============================] - 5s 301ms/step - loss: 0.1477 - acc: 0.9833 - precision_3: 1.0000 - recall_3: 0.8755\n",
      "Epoch 10/12\n",
      "16/16 [==============================] - 5s 311ms/step - loss: 0.1285 - acc: 0.9872 - precision_3: 1.0000 - recall_3: 0.9042\n",
      "Epoch 11/12\n",
      "16/16 [==============================] - 5s 334ms/step - loss: 0.1127 - acc: 0.9892 - precision_3: 0.9959 - recall_3: 0.9234\n",
      "Epoch 12/12\n",
      "16/16 [==============================] - 5s 328ms/step - loss: 0.0990 - acc: 0.9910 - precision_3: 1.0000 - recall_3: 0.9330\n",
      "\n",
      "---------------------------------------------------\n",
      "\n",
      "Model evaluation on the full test set:\n",
      "53/53 [==============================] - 3s 37ms/step - loss: 0.1225 - acc: 0.9785 - precision_3: 0.9948 - recall_3: 0.8444\n",
      "\n",
      "---------------------------------------------------\n",
      "\n",
      "Model evaluation on the SHORT test set:\n",
      "59/59 [==============================] - 2s 35ms/step - loss: 0.5772 - acc: 0.8651 - precision_3: 0.0000e+00 - recall_3: 0.0000e+00\n",
      "\n",
      "---------------------------------------------------\n",
      "\n",
      "Model evaluation on the MEDIUM test set:\n",
      "58/58 [==============================] - 2s 35ms/step - loss: 0.5933 - acc: 0.8519 - precision_3: 0.0000e+00 - recall_3: 0.0000e+00\n",
      "\n",
      "---------------------------------------------------\n",
      "\n",
      "Model evaluation on the LONG test set:\n",
      "59/59 [==============================] - 2s 36ms/step - loss: 0.4731 - acc: 0.8672 - precision_3: 0.1200 - recall_3: 0.0131\n"
     ]
    },
    {
     "data": {
      "text/plain": [
       "{'loss': 0.4730711579322815,\n",
       " 'acc': 0.8672376871109009,\n",
       " 'precision_3': 0.11999999731779099,\n",
       " 'recall_3': 0.013100436888635159}"
      ]
     },
     "execution_count": 25,
     "metadata": {},
     "output_type": "execute_result"
    }
   ],
   "source": [
    "# LSTM model\n",
    "\n",
    "model = Sequential()\n",
    "model.add(Embedding(max_features, 15))\n",
    "model.add(LSTM(15,input_shape=x_train.shape, activation='tanh',recurrent_regularizer='l2'))\n",
    "model.add(Dense(1, activation='sigmoid'))\n",
    "model.compile(loss = 'binary_crossentropy', optimizer='adam',metrics=['acc', Precision(), Recall()])\n",
    "\n",
    "model_lstm = model.fit(x_train, y_train, epochs = 12, batch_size=256)\n",
    "print(\"\\n---------------------------------------------------\\n\")\n",
    "print(\"Model evaluation on the full test set:\")\n",
    "model.evaluate(x_test,y_test, verbose=1, return_dict=True)\n",
    "print(\"\\n---------------------------------------------------\\n\")\n",
    "print(\"Model evaluation on the SHORT test set:\")\n",
    "model.evaluate(x_test_short,y_test_short, verbose=1, return_dict=True)\n",
    "print(\"\\n---------------------------------------------------\\n\")\n",
    "print(\"Model evaluation on the MEDIUM test set:\")\n",
    "model.evaluate(x_test_medium,y_test_medium, verbose=1, return_dict=True)\n",
    "print(\"\\n---------------------------------------------------\\n\")\n",
    "print(\"Model evaluation on the LONG test set:\")\n",
    "model.evaluate(x_test_long,y_test_long, verbose=1, return_dict=True)"
   ]
  },
  {
   "cell_type": "markdown",
   "metadata": {},
   "source": [
    "### GRU model"
   ]
  },
  {
   "cell_type": "code",
   "execution_count": 26,
   "metadata": {},
   "outputs": [
    {
     "name": "stdout",
     "output_type": "stream",
     "text": [
      "Epoch 1/12\n",
      "16/16 [==============================] - 9s 268ms/step - loss: 0.8069 - acc: 0.8133 - precision_4: 0.1448 - recall_4: 0.0805\n",
      "Epoch 2/12\n",
      "16/16 [==============================] - 4s 265ms/step - loss: 0.7175 - acc: 0.8662 - precision_4: 0.0000e+00 - recall_4: 0.0000e+00\n",
      "Epoch 3/12\n",
      "16/16 [==============================] - 4s 263ms/step - loss: 0.6113 - acc: 0.8662 - precision_4: 0.0000e+00 - recall_4: 0.0000e+00\n",
      "Epoch 4/12\n",
      "16/16 [==============================] - 5s 307ms/step - loss: 0.4838 - acc: 0.8662 - precision_4: 0.0000e+00 - recall_4: 0.0000e+00\n",
      "Epoch 5/12\n",
      "16/16 [==============================] - 5s 313ms/step - loss: 0.3676 - acc: 0.8669 - precision_4: 1.0000 - recall_4: 0.0057\n",
      "Epoch 6/12\n",
      "16/16 [==============================] - 4s 277ms/step - loss: 0.3000 - acc: 0.8808 - precision_4: 1.0000 - recall_4: 0.1092\n",
      "Epoch 7/12\n",
      "16/16 [==============================] - 4s 277ms/step - loss: 0.2398 - acc: 0.9279 - precision_4: 1.0000 - recall_4: 0.4617\n",
      "Epoch 8/12\n",
      "16/16 [==============================] - 4s 279ms/step - loss: 0.1882 - acc: 0.9572 - precision_4: 1.0000 - recall_4: 0.6801\n",
      "Epoch 9/12\n",
      "16/16 [==============================] - 4s 275ms/step - loss: 0.1482 - acc: 0.9741 - precision_4: 1.0000 - recall_4: 0.8065\n",
      "Epoch 10/12\n",
      "16/16 [==============================] - 4s 272ms/step - loss: 0.1203 - acc: 0.9844 - precision_4: 1.0000 - recall_4: 0.8831\n",
      "Epoch 11/12\n",
      "16/16 [==============================] - 5s 322ms/step - loss: 0.1007 - acc: 0.9887 - precision_4: 1.0000 - recall_4: 0.9157\n",
      "Epoch 12/12\n",
      "16/16 [==============================] - 5s 309ms/step - loss: 0.0867 - acc: 0.9918 - precision_4: 1.0000 - recall_4: 0.9387\n",
      "\n",
      "---------------------------------------------------\n",
      "\n",
      "Model evaluation on the full test set:\n",
      "53/53 [==============================] - 4s 40ms/step - loss: 0.1220 - acc: 0.9779 - precision_4: 0.9947 - recall_4: 0.8400\n",
      "\n",
      "---------------------------------------------------\n",
      "\n",
      "Model evaluation on the SHORT test set:\n",
      "59/59 [==============================] - 2s 38ms/step - loss: 0.6253 - acc: 0.8608 - precision_4: 0.1000 - recall_4: 0.0040\n",
      "\n",
      "---------------------------------------------------\n",
      "\n",
      "Model evaluation on the MEDIUM test set:\n",
      "58/58 [==============================] - 2s 41ms/step - loss: 0.6467 - acc: 0.8388 - precision_4: 0.0312 - recall_4: 0.0037\n",
      "\n",
      "---------------------------------------------------\n",
      "\n",
      "Model evaluation on the LONG test set:\n",
      "59/59 [==============================] - 3s 49ms/step - loss: 0.5177 - acc: 0.8549 - precision_4: 0.1818 - recall_4: 0.0524\n"
     ]
    },
    {
     "data": {
      "text/plain": [
       "{'loss': 0.5177060961723328,\n",
       " 'acc': 0.8549250364303589,\n",
       " 'precision_4': 0.1818181872367859,\n",
       " 'recall_4': 0.052401747554540634}"
      ]
     },
     "execution_count": 26,
     "metadata": {},
     "output_type": "execute_result"
    }
   ],
   "source": [
    "# GRU model\n",
    "\n",
    "model = Sequential()\n",
    "model.add(Embedding(max_features, 15))\n",
    "model.add(GRU(15,input_shape=x_train.shape, activation='tanh',recurrent_regularizer='l2'))\n",
    "model.add(Dense(1, activation='sigmoid'))\n",
    "model.compile(loss = 'binary_crossentropy', optimizer='adam',metrics=['acc', Precision(), Recall()])\n",
    "\n",
    "model_gru = model.fit(x_train, y_train, epochs = 12, batch_size=256)\n",
    "print(\"\\n---------------------------------------------------\\n\")\n",
    "print(\"Model evaluation on the full test set:\")\n",
    "model.evaluate(x_test,y_test, verbose=1, return_dict=True)\n",
    "print(\"\\n---------------------------------------------------\\n\")\n",
    "print(\"Model evaluation on the SHORT test set:\")\n",
    "model.evaluate(x_test_short,y_test_short, verbose=1, return_dict=True)\n",
    "print(\"\\n---------------------------------------------------\\n\")\n",
    "print(\"Model evaluation on the MEDIUM test set:\")\n",
    "model.evaluate(x_test_medium,y_test_medium, verbose=1, return_dict=True)\n",
    "print(\"\\n---------------------------------------------------\\n\")\n",
    "print(\"Model evaluation on the LONG test set:\")\n",
    "model.evaluate(x_test_long,y_test_long, verbose=1, return_dict=True)"
   ]
  },
  {
   "cell_type": "markdown",
   "metadata": {},
   "source": [
    "# Impact of Pretrained Word Embedding - Code Part II"
   ]
  },
  {
   "cell_type": "markdown",
   "metadata": {},
   "source": []
  }
 ],
 "metadata": {
  "kernelspec": {
   "display_name": "Python 3.8.5 ('base')",
   "language": "python",
   "name": "python3"
  },
  "language_info": {
   "codemirror_mode": {
    "name": "ipython",
    "version": 3
   },
   "file_extension": ".py",
   "mimetype": "text/x-python",
   "name": "python",
   "nbconvert_exporter": "python",
   "pygments_lexer": "ipython3",
   "version": "3.8.5"
  },
  "orig_nbformat": 4,
  "vscode": {
   "interpreter": {
    "hash": "85b31755cbf75356c393a3522367cd288f0b05170e2bd292c75b11fc3d2da2cf"
   }
  }
 },
 "nbformat": 4,
 "nbformat_minor": 2
}
